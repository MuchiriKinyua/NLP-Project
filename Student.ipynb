{
 "cells": [
  {
   "cell_type": "markdown",
   "id": "6ac812fb-aefb-4e46-8498-99a6f7829d06",
   "metadata": {},
   "source": [
    "# "
   ]
  },
  {
   "cell_type": "markdown",
   "id": "258ca47d-64b3-4749-8336-9a70962894bd",
   "metadata": {},
   "source": [
    "# Table of contents"
   ]
  },
  {
   "cell_type": "markdown",
   "id": "37390c22-7720-45a9-a5bb-3bcb98683795",
   "metadata": {},
   "source": [
    "# 1. Business Understanding"
   ]
  },
  {
   "cell_type": "markdown",
   "id": "a8abdfa1-b6e9-48e3-a3a1-6b7871b69f01",
   "metadata": {},
   "source": [
    "## 1.1 Business Description"
   ]
  },
  {
   "cell_type": "markdown",
   "id": "39b046e8-e5b5-49b5-9e9c-f33a9e7b8a84",
   "metadata": {},
   "source": [
    "## 1.2 Problem Statement"
   ]
  },
  {
   "cell_type": "markdown",
   "id": "13a07d5a-b258-4acc-acdf-94303b2506d5",
   "metadata": {},
   "source": [
    "## 1.3 Main Objective"
   ]
  },
  {
   "cell_type": "markdown",
   "id": "47db71af-ae63-4044-9e4e-6963506ae985",
   "metadata": {},
   "source": [
    "## 1.4 Specific Objectives"
   ]
  },
  {
   "cell_type": "markdown",
   "id": "5992b20b-3150-4e11-8a37-2c51e7e39a5a",
   "metadata": {},
   "source": [
    "# 2. Notebook structure"
   ]
  },
  {
   "cell_type": "markdown",
   "id": "ab0a4b7b-8dcf-4b44-ade3-b3aadb899067",
   "metadata": {},
   "source": [
    "# 3. Importing libraries and warnings"
   ]
  },
  {
   "cell_type": "markdown",
   "id": "3b221699-72d8-4617-8036-b565bfcf726d",
   "metadata": {},
   "source": [
    "# 4. Data Understanding"
   ]
  },
  {
   "cell_type": "markdown",
   "id": "8e31803b-d6d1-4216-af30-ff3b7d45180d",
   "metadata": {},
   "source": [
    "# 5. Data Preparation"
   ]
  },
  {
   "cell_type": "markdown",
   "id": "54ff1a4c-3f4b-4a9b-bcd5-7856b9b3868e",
   "metadata": {},
   "source": [
    "## 5.1 Visualizing before cleaning"
   ]
  },
  {
   "cell_type": "markdown",
   "id": "94b250b2-47b2-48d5-82fd-dd8ded38d428",
   "metadata": {},
   "source": [
    "## 5.2 Missing Values"
   ]
  },
  {
   "cell_type": "markdown",
   "id": "867d153c-4dc7-468c-89ee-0a6d9349d1bf",
   "metadata": {},
   "source": [
    "## 5.3 Duplicates"
   ]
  },
  {
   "cell_type": "markdown",
   "id": "2fbe958b-d632-4bfd-9730-76a646b3ff1f",
   "metadata": {},
   "source": [
    "## 5.4 Place Holders"
   ]
  },
  {
   "cell_type": "markdown",
   "id": "6a419c1f-ccb6-41e6-83bf-842ef4cf463b",
   "metadata": {},
   "source": [
    "## 5.5 Messy Columns"
   ]
  },
  {
   "cell_type": "markdown",
   "id": "5931c9cf-981e-468c-b7bc-46d192301a6d",
   "metadata": {},
   "source": [
    "## 5.6 White Space"
   ]
  },
  {
   "cell_type": "markdown",
   "id": "12dab250-ec89-480e-879a-0628554854bb",
   "metadata": {},
   "source": [
    "## 5.7 Visualizing after cleaning"
   ]
  },
  {
   "cell_type": "markdown",
   "id": "4d87c92d-ea1b-4ae2-8d5f-3f347287287d",
   "metadata": {},
   "source": [
    "# 6. Data Preprocessing "
   ]
  },
  {
   "cell_type": "markdown",
   "id": "cd50bd31-ad8e-4bd5-9742-0dfeeed234d5",
   "metadata": {},
   "source": [
    "# 7. Data Modelling"
   ]
  },
  {
   "cell_type": "markdown",
   "id": "e05f4f0a-ef34-4533-b89f-21a90d918b38",
   "metadata": {},
   "source": [
    "# 8. Evaluation"
   ]
  },
  {
   "cell_type": "markdown",
   "id": "7011e32a-d755-46af-af52-71d92c6d367b",
   "metadata": {},
   "source": [
    "# 9. Recommendations"
   ]
  },
  {
   "cell_type": "markdown",
   "id": "5bc9145f-f9ce-4533-a756-11c0b21a730d",
   "metadata": {},
   "source": [
    "# 10. Conclusions"
   ]
  },
  {
   "cell_type": "markdown",
   "id": "ef3919cd-d983-4ac6-95a0-0802773f9113",
   "metadata": {},
   "source": [
    "# 11. Limitations"
   ]
  }
 ],
 "metadata": {
  "kernelspec": {
   "display_name": "Python 3 (ipykernel)",
   "language": "python",
   "name": "python3"
  },
  "language_info": {
   "codemirror_mode": {
    "name": "ipython",
    "version": 3
   },
   "file_extension": ".py",
   "mimetype": "text/x-python",
   "name": "python",
   "nbconvert_exporter": "python",
   "pygments_lexer": "ipython3",
   "version": "3.10.11"
  }
 },
 "nbformat": 4,
 "nbformat_minor": 5
}
